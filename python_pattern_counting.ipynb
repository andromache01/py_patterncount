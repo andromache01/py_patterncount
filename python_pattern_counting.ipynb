{
 "cells": [
  {
   "cell_type": "code",
   "execution_count": 2,
   "metadata": {
    "collapsed": false
   },
   "outputs": [],
   "source": [
    "# Imports a fastq file from the web, and reads it into a format suitable for further analysis\n",
    "# Establishes four different functions for analysis of the genomic contents of the fastq file, which count occurence of bases of various lengths of series of bases. "
   ]
  },
  {
   "cell_type": "code",
   "execution_count": 1,
   "metadata": {
    "collapsed": false
   },
   "outputs": [
    {
     "name": "stdout",
     "output_type": "stream",
     "text": [
      "<!DOCTYPE html PUBLIC \"-//W3C//DTD XHTML 1.1//EN\" \"http://www.w3.org/TR/xhtml11/DTD/xhtml11.dtd\">\n",
      "\n",
      "<html xmlns=\"http://www.w3.org/1999/xhtml\" xml:lang=\"en\">\n",
      "\t<head>\n",
      "\t\t<title>Test Page for the Apache HTTP Server on Red Hat Enterprise Linux</title>\n",
      "\t\t<meta http-equiv=\"Content-Type\" content=\"text/html; charset=UTF-8\" />\n",
      "\t\t<style type=\"text/css\">\n",
      "\t\t\t/*<![CDATA[*/\n",
      "\t\t\tbody {\n",
      "\t\t\t\tbackground-color: #fff;\n",
      "\t\t\t\tcolor: #000;\n",
      "\t\t\t\tfont-size: 0.9em;\n",
      "\t\t\t\tfont-family: sans-serif,helvetica;\n",
      "\t\t\t\tmargin: 0;\n",
      "\t\t\t\tpadding: 0;\n",
      "\t\t\t}\n",
      "\t\t\t:link {\n",
      "\t\t\t\tcolor: #c00;\n",
      "\t\t\t}\n",
      "\t\t\t:visited {\n",
      "\t\t\t\tcolor: #c00;\n",
      "\t\t\t}\n",
      "\t\t\ta:hover {\n",
      "\t\t\t\tcolor: #f50;\n",
      "\t\t\t}\n",
      "\t\t\th1 {\n",
      "\t\t\t\ttext-align: center;\n",
      "\t\t\t\tmargin: 0;\n",
      "\t\t\t\tpadding: 0.6em 2em 0.4em;\n",
      "\t\t\t\tbackground-color: #900;\n",
      "\t\t\t\tcolor: #fff;\n",
      "\t\t\t\tfont-weight: normal;\n",
      "\t\t\t\tfont-size: 1.75em;\n",
      "\t\t\t\tborder-bottom: 2px solid #000;\n",
      "\t\t\t}\n",
      "\t\t\th1 strong {\n",
      "\t\t\t\tfont-weight: bold;\n",
      "\t\t\t}\n",
      "\t\t\th2 {\n",
      "\t\t\t\tfont-size: 1.1em;\n",
      "\t\t\t\tfont-weight: bold;\n",
      "\t\t\t}\n",
      "\t\t\thr {\n",
      "\t\t\t\tdisplay: none;\n",
      "\t\t\t}\n",
      "\t\t\t.content {\n",
      "\t\t\t\tpadding: 1em 5em;\n",
      "\t\t\t}\n",
      "\t\t\t.content-columns {\n",
      "\t\t\t\t/* Setting relative positioning allows for \n",
      "\t\t\t\tabsolute positioning for sub-classes */\n",
      "\t\t\t\tposition: relative;\n",
      "\t\t\t\tpadding-top: 1em;\n",
      "\t\t\t}\n",
      "\t\t\t.content-column-left {\n",
      "\t\t\t\t/* Value for IE/Win; will be overwritten for other browsers */\n",
      "\t\t\t\twidth: 47%;\n",
      "\t\t\t\tpadding-right: 3%;\n",
      "\t\t\t\tfloat: left;\n",
      "\t\t\t\tpadding-bottom: 2em;\n",
      "\t\t\t}\n",
      "\t\t\t.content-column-left hr {\n",
      "\t\t\t\tdisplay: none;\n",
      "\t\t\t}\n",
      "\t\t\t.content-column-right {\n",
      "\t\t\t\t/* Values for IE/Win; will be overwritten for other browsers */\n",
      "\t\t\t\twidth: 47%;\n",
      "\t\t\t\tpadding-left: 3%;\n",
      "\t\t\t\tfloat: left;\n",
      "\t\t\t\tpadding-bottom: 2em;\n",
      "\t\t\t}\n",
      "\t\t\t.content-columns>.content-column-left, .content-columns>.content-column-right {\n",
      "\t\t\t\t/* Non-IE/Win */\n",
      "\t\t\t}\n",
      "\t\t\timg {\n",
      "\t\t\t\tborder: 2px solid #fff;\n",
      "\t\t\t\tpadding: 2px;\n",
      "\t\t\t\tmargin: 2px;\n",
      "\t\t\t}\n",
      "\t\t\ta:hover img {\n",
      "\t\t\t\tborder: 2px solid #f50;\n",
      "\t\t\t}\n",
      "\t\t\t/*]]>*/\n",
      "\t\t</style>\n",
      "\t</head>\n",
      "\n",
      "\t<body>\n",
      "\t\t<h1>Red Hat Enterprise Linux <strong>Test Page</strong></h1>\n",
      "\n",
      "\t\t<div class=\"content\">\n",
      "\t\t\t<div class=\"content-middle\">\n",
      "\t\t\t\t<p>This page is used to test the proper operation of the Apache HTTP server after it has been installed. If you can read this page, it means that the Apache HTTP server installed at this site is working properly.</p>\n",
      "\t\t\t</div>\n",
      "\t\t\t<hr />\n",
      "\n",
      "\t\t\t<div class=\"content-columns\">\n",
      "\t\t\t\t<div class=\"content-column-left\">\n",
      "\t\t\t\t\t<h2>If you are a member of the general public:</h2>\n",
      "\n",
      "\t\t\t\t\t<p>The fact that you are seeing this page indicates that the website you just visited is either experiencing problems, or is undergoing routine maintenance.</p>\n",
      "\n",
      "\t\t\t\t\t<p>If you would like to let the administrators of this website know that you've seen this page instead of the page you expected, you should send them e-mail. In general, mail sent to the name \"webmaster\" and directed to the website's domain should reach the appropriate person.</p>\n",
      "\n",
      "\t\t\t\t\t<p>For example, if you experienced problems while visiting www.example.com, you should send e-mail to \"webmaster@example.com\".</p>\n",
      "\n",
      "\t\t\t\t\t<p>For information on Red Hat Enterprise Linux, please visit the <a href=\"http://www.redhat.com/\">Red Hat, Inc. website</a>. The documentation for Red Hat Enterprise Linux is <a href=\"http://www.redhat.com/docs/manuals/enterprise/\">available on the Red Hat, Inc. website</a>.</p>\n",
      "\t\t\t\t\t<hr />\n",
      "\t\t\t\t</div>\n",
      "\n",
      "\t\t\t\t<div class=\"content-column-right\">\n",
      "\t\t\t\t\t<h2>If you are the website administrator:</h2>\n",
      "\n",
      "\t\t\t\t\t<p>You may now add content to the directory <tt>/var/www/html/</tt>. Note that until you do so, people visiting your website will see this page, and not your content. To prevent this page from ever being used, follow the instructions in the file <tt>/etc/httpd/conf.d/welcome.conf</tt>.</p>\n",
      "\n",
      "                                        <p>You are free to use the image below on web sites powered by the Apache HTTP Server:</p>\n",
      "\t\t\t\t\t\n",
      "                                        <p align=\"center\"><a href=\"http://httpd.apache.org/\"><img src=\"/icons/apache_pb2.gif\" alt=\"[ Powered by Apache ]\"/></a></p>\n",
      "\n",
      "\t\t\t\t</div>\n",
      "\t\t\t</div>\n",
      "\t\t</div>\n",
      "\t</body>\n",
      "</html>\n"
     ]
    },
    {
     "name": "stderr",
     "output_type": "stream",
     "text": [
      "  % Total    % Received % Xferd  Average Speed   Time    Time     Time  Current\n",
      "                                 Dload  Upload   Total   Spent    Left  Speed\n",
      "\n",
      "  0     0    0     0    0     0      0      0 --:--:-- --:--:-- --:--:--     0\n",
      "100 21190  100 21190    0     0  96757      0 --:--:-- --:--:-- --:--:-- 96757\n",
      "curl: (6) Could not resolve host: #gets\n",
      "\n",
      "  0     0    0     0    0     0      0      0 --:--:-- --:--:-- --:--:--     0\n",
      "  0     0    0     0    0     0      0      0 --:--:--  0:00:01 --:--:--     0curl: (6) Could not resolve host: sample\n",
      "\n",
      "  0     0    0     0    0     0      0      0 --:--:-- --:--:-- --:--:--     0\n",
      "  0     0    0     0    0     0      0      0 --:--:--  0:00:01 --:--:--     0curl: (6) Could not resolve host: fastq\n",
      "\n",
      "  0     0    0     0    0     0      0      0 --:--:-- --:--:-- --:--:--     0\n",
      "  0     0    0     0    0     0      0      0 --:--:-- --:--:-- --:--:--     0\n",
      "  0     0    0     0    0     0      0      0 --:--:--  0:00:01 --:--:--     0curl: (6) Could not resolve host: file\n",
      "\n",
      "  0     0    0     0    0     0      0      0 --:--:-- --:--:-- --:--:--     0\n",
      "  0     0    0     0    0     0      0      0 --:--:-- --:--:-- --:--:--     0\n",
      "  0     0    0     0    0     0      0      0 --:--:--  0:00:01 --:--:--     0curl: (6) Could not resolve host: from\n",
      "\n",
      "  0     0    0     0    0     0      0      0 --:--:-- --:--:-- --:--:--     0\n",
      "100  3985  100  3985    0     0   243k      0 --:--:-- --:--:-- --:--:--  243k\n"
     ]
    }
   ],
   "source": [
    "!curl -O http://rachelss.github.io/Bioinformatics/sample.fastq #gets sample fastq file from web"
   ]
  },
  {
   "cell_type": "code",
   "execution_count": 2,
   "metadata": {
    "collapsed": true
   },
   "outputs": [],
   "source": [
    "filename = 'sample.fastq' #Specify the file using a string variable\n",
    "f = open(filename, 'r') #Open the file"
   ]
  },
  {
   "cell_type": "code",
   "execution_count": 3,
   "metadata": {
    "collapsed": true
   },
   "outputs": [],
   "source": [
    "fastq=f.readlines() #Read it into memory, line by line"
   ]
  },
  {
   "cell_type": "code",
   "execution_count": 4,
   "metadata": {
    "collapsed": false
   },
   "outputs": [],
   "source": [
    "def count_bases(filename):\n",
    "    \"\"\"\n",
    "    Analyzes genomic data from a fastq formatted text file. Counts the number of occurrences of each base, from A, T, C, or G.\n",
    "    File must be in the fastq format with no lines removed.\n",
    "    Args:\n",
    "        filename = name of the fastq file. \n",
    "    \"\"\"\n",
    "    counters={'A':0,'C':0,'G':0,'T':0} #establishes dictionary for each base\n",
    "    for line_num,line in enumerate(filename): #go through each line\n",
    "        if line_num % 4 == 1: #check if its a a sequence based on position in file\n",
    "            for base in line: # go through each base\n",
    "                if base=='A': # only counts A\n",
    "                    counters['A'] += 1 #increases dictionary variable by 1 if A is found\n",
    "                elif base=='G': #same as above, and so on\n",
    "                    counters['G'] += 1\n",
    "                elif base=='T':\n",
    "                    counters['T'] += 1\n",
    "                elif base=='C':\n",
    "                    counters['C'] += 1\n",
    "    print(counters) #displays final count"
   ]
  },
  {
   "cell_type": "code",
   "execution_count": 5,
   "metadata": {
    "collapsed": false
   },
   "outputs": [],
   "source": [
    "def count_2kmers(filename):\n",
    "    \"\"\"\n",
    "    Analyzes genomic data from a fastq formatted text file. Counts the number of occurrences of each pair of bases. \n",
    "    Pairs defined as all combinations of A, C, G, or T. Any other \"bases\" included by error or otherwise (e.g. 'AE') are ignored.\n",
    "    File must be in the fastq format with no lines removed.\n",
    "    Args:\n",
    "        filename = name of the fastq file. \n",
    "    \"\"\"\n",
    "    counter_2kmers={'AA':0,'AC':0, 'AG':0,'AT':0, 'CA':0, 'CC':0, 'CG':0, 'CT':0, 'GA':0, 'GC':0, 'GG':0, 'GT':0, 'TA':0, 'TC':0, 'TG':0, 'TT':0} #establishes dictionary for each pair of bases\n",
    "    kmerlist=['AA','AC','AG','AT','CA','CC','CG','CT','GA','GC','GG','GT','TA','TC','TG','TT']\n",
    "    for line_num,line in enumerate (filename): #go through each line\n",
    "        if line_num %4 == 1:  #check if its a a sequence based on position in file\n",
    "            currentl=filename[line_num] #prints relevant line\n",
    "            for base_num, base in enumerate(line): #goes through each base\n",
    "                kmer = currentl[base_num:base_num+2]\n",
    "                for id in kmerlist:\n",
    "                    if kmer == id:\n",
    "                        counter_2kmers[id] +=1\n",
    "    print(counter_2kmers) #displays the final count"
   ]
  },
  {
   "cell_type": "code",
   "execution_count": 6,
   "metadata": {
    "collapsed": false
   },
   "outputs": [],
   "source": [
    "def count_2kmersunknown(filename):\n",
    "    \"\"\"\n",
    "    Analyzes genomic data from a fastq formatted text file. Counts the number of occurrences of each pair of bases. \n",
    "    Pairs include all pairs of letters included in the genomic sequences of the files. Any two-letter pairs will be counted, including possible errors, e.g. 'AE'. \n",
    "    File must be in the fastq format with no lines removed.\n",
    "    Args:\n",
    "        filename = name of the fastq file. \n",
    "    \"\"\"                       \n",
    "    counter_2kmersunknown={} #sets up dictionary\n",
    "    for line_num,line in enumerate (filename):  #go through each line\n",
    "        if line_num %4 == 1: #check if its a a sequence based on position in file\n",
    "            currentl=filename[line_num] #prints relevant line\n",
    "            for base_num, base in enumerate(line): #goes through each base\n",
    "                kmer = currentl[base_num:base_num+2] #records the pair of bases starting with the current base into a variable\n",
    "                if '\\n' in kmer: #don't count the \\n at the end of the genomic line\n",
    "                    break #goes to next statement\n",
    "                elif kmer in counter_2kmersunknown: # if the base pair is in the dictionary, the count for that pair is increased by 1\n",
    "                    counter_2kmersunknown[kmer]+=1\n",
    "                else: #if the base pair is not into the dictionary, it is added, and the count is started at one\n",
    "                    counter_2kmersunknown[kmer]=1\n",
    "    print(counter_2kmersunknown) #displays the final count"
   ]
  },
  {
   "cell_type": "code",
   "execution_count": 7,
   "metadata": {
    "collapsed": false
   },
   "outputs": [],
   "source": [
    "def count_kmers(filename,n):\n",
    "    \"\"\"\n",
    "    Analyzes genomic data from a fastq formatted text file. Counts the number of occurrences of series of bases of any predefined length.\n",
    "    Series include all pairs of letters included in the genomic sequences of the files, including possible errors, e.g. 'AEGT'.\n",
    "    May also unintentionally count fastq formatting language if n is small. (If n<4, the function will also report counts of '\\n').\n",
    "    File must be in the fastq format with no lines removed.\n",
    "    Args:\n",
    "        n = length of the series of bases desired\n",
    "        filename = name of the fastq file. \n",
    "    \"\"\"\n",
    "    counter_kmers={} #sets up dictionary\n",
    "    for line_num,line in enumerate (filename): #go through each line\n",
    "        if line_num %4 == 1:  #check if its a a sequence based on position in file\n",
    "            currentl=filename[line_num] #prints relevant line\n",
    "            for base in line: #goes through each base\n",
    "                kmer = currentl[currentl.index(base):currentl.index(base)+n] #defines current kmer of length n, starting from current base\n",
    "                if '\\n' in kmer: #don't count the \\n at the end of the genomic line\n",
    "                    break #goes to the next statement\n",
    "                elif kmer in counter_kmers: #if kmer is in dictionary, count is increased by 1\n",
    "                    counter_kmers[kmer]+=1\n",
    "                else: #if kmer is not in dictionary, it is added, and count is established at 1\n",
    "                    counter_kmers[kmer]=1\n",
    "    print(counter_kmers) #prints final count"
   ]
  },
  {
   "cell_type": "code",
   "execution_count": 9,
   "metadata": {
    "collapsed": false
   },
   "outputs": [
    {
     "name": "stdout",
     "output_type": "stream",
     "text": [
      "{'C': 2550, 'G': 2489, 'T': 2444, 'A': 2517}\n",
      "{'AC': 665, 'CC': 630, 'CG': 623, 'GT': 627, 'TA': 588, 'CT': 636, 'AA': 632, 'TT': 583, 'AG': 627, 'AT': 574, 'GC': 620, 'GA': 633, 'TC': 615, 'GG': 581, 'CA': 638, 'TG': 628}\n",
      "{'CC': 630, 'CG': 623, 'GT': 627, 'TA': 588, 'AC': 665, 'AA': 632, 'AT': 574, 'AG': 627, 'CA': 638, 'GC': 620, 'GA': 633, 'CT': 636, 'TC': 615, 'GG': 581, 'TT': 583, 'TG': 628}\n",
      "{'AGGTTCG': 28, 'AATTGGG': 33, 'TCCTCAG': 26, 'CATGCCG': 24, 'GCTAGAA': 27, 'CCGCCTG': 26, 'CTACTGC': 25, 'TTGCAGC': 24, 'GACCAGT': 28, 'GCGGCAA': 26, 'AACGTTT': 27, 'ACCCGAC': 28, 'AACATGG': 24, 'GTTTGCG': 21, 'GAGGACT': 26, 'CTACCGA': 24, 'GCCTCCA': 21, 'CGACAGT': 23, 'CCGCTAG': 22, 'CCACCCT': 30, 'ATAGTTG': 26, 'TCGCGAG': 27, 'AGTATGT': 31, 'TAGGAAG': 27, 'GTTCCTT': 27, 'TTATCGT': 28, 'CTCGCGG': 26, 'GAGACGG': 22, 'ATCGGGG': 29, 'ACTACTG': 29, 'TCGCGAA': 25, 'GGCAGTA': 21, 'TGGCAGT': 22, 'ACTCAGT': 29, 'ATTGGCG': 30, 'TTCATAA': 28, 'GTCAGCA': 20, 'TAATTGC': 25, 'TAGTATG': 24, 'AACCTCG': 26, 'CGCCTAT': 29, 'GTAATTG': 18, 'GGCCCCT': 23, 'AGGCGAG': 21, 'GACTCCG': 19, 'CAGGCGT': 25, 'CCACTCC': 31, 'TGACGTC': 19, 'AGCGCCC': 21, 'TATAGTG': 27, 'ACATGCC': 27, 'GCGGAGA': 27, 'TTTCATG': 22, 'TCCATCG': 22, 'TTCCTTG': 23, 'TATCGGG': 31, 'GCAGAGC': 28, 'CCTCCAG': 35, 'GTAAACA': 30, 'ACAACCG': 24, 'TTCACCG': 19, 'TGTTGTA': 28, 'ACCGTGA': 30, 'CATACAT': 22, 'GGAAAAC': 20, 'GTGCGCC': 23, 'GTCCGTG': 30, 'ATATTCC': 26, 'CGGCTTT': 24, 'AAGAACG': 27, 'GGGTTAG': 22, 'TATTCGT': 51, 'ATGTCGT': 19, 'TGCGAGG': 17, 'TACAACC': 20, 'CGGGGAT': 14, 'ATTACGT': 45, 'CACAATA': 26, 'CACATCG': 23, 'TGTCCGC': 23, 'TACTACT': 22, 'ACTTGAA': 33, 'CCTCAGA': 24, 'TATTCCG': 21, 'TCCTTGA': 27, 'CACTCGT': 21, 'GACATAC': 31, 'ACCCTCG': 25, 'TTAATGG': 26, 'GTATGAG': 19, 'TCAGTAG': 20, 'GGGTAAG': 26, 'ATGTAAA': 16, 'GCGAATT': 20, 'TACGGGT': 25, 'GTCCTCA': 27, 'CAAAAAT': 34, 'ATTATCG': 23, 'AGTATTC': 26, 'CTGCCGG': 20, 'TTGCGGA': 17, 'TCGAAGG': 26, 'TGCTCGC': 25, 'ATGCTCG': 27, 'TCACTGT': 27, 'CTGAACT': 20, 'CTCGCGA': 27, 'CTGCGAG': 26, 'CCTCCTA': 25, 'CAAATAA': 25, 'CTCCGCC': 29, 'TTTTCTC': 33, 'CTCTCGC': 24, 'TGACTCC': 27, 'CATGATC': 28, 'TCGGTTC': 24, 'CGATTAC': 31, 'GGCACGT': 28, 'GCCTCGC': 27, 'CAGAGAC': 27, 'ATTTAGG': 33, 'TTTGCGA': 28, 'TCGAGTA': 21, 'GTACAAC': 31, 'CCAGCGG': 29, 'GCCGCAG': 25, 'GCAGCCA': 24, 'CCGTGCT': 26, 'CACTCAG': 27, 'TATTGGC': 26, 'CCAAGCG': 30, 'TACGGAT': 21, 'GATCATG': 26, 'AACTGTG': 19, 'CATTCCC': 21, 'TCATGAT': 28, 'GTATAGT': 22, 'ATTAATG': 28, 'GGCGACA': 18, 'GTGCCGA': 27, 'TCGCAGT': 26, 'TATCTCA': 17, 'CAGCGGC': 29, 'ATACATT': 27, 'AGCACAA': 22, 'TTTGAGA': 34, 'ACCAGGG': 15, 'CCATAGT': 23, 'TCAGTAA': 21, 'CTATATA': 18, 'CTGTATA': 25, 'GACAAGT': 33, 'CACTGGT': 24, 'CCCGACA': 24, 'TCTGCGG': 18, 'CAACGCA': 27, 'GGATCTG': 24, 'TAACTGG': 19, 'GGGTTAA': 19, 'CTATGTC': 28, 'CGGTTCT': 21, 'AGATCTG': 27, 'TGGTCAC': 30, 'GTGATAC': 23, 'GCGACAG': 24, 'TTGGTCT': 28, 'ACAGTGA': 32, 'TTCAGAC': 23, 'GCATCGT': 29, 'CTGTGAC': 32, 'AGCCATC': 29, 'AAGTTAA': 27, 'GATTTCA': 23, 'CGAACAC': 31, 'GGCCAAT': 30, 'TGCGACA': 21, 'AGTTTTG': 18, 'GTCGTTT': 25, 'AGAGACG': 24, 'GGTTCTC': 36, 'GGGCCCG': 34, 'AGGCCAA': 22, 'TTTAGGA': 25, 'GCTATAT': 27, 'ACCGCCT': 24, 'TGCGCGA': 19, 'TGCGCCC': 16, 'CGACCAG': 26, 'GTATGTA': 22, 'AACTGGG': 21, 'GCTCGCG': 50, 'CCAATTA': 24, 'ATCCATA': 33, 'TTACCTC': 29, 'ATTGGTT': 22, 'ATTCCCA': 36, 'TTGAAAT': 18, 'AAGATCA': 18, 'AGAGTGT': 20, 'AGAACGG': 23, 'ACGTGCG': 23, 'ACTGGTC': 24, 'CAGGTCC': 29, 'GCGCCTA': 21, 'AGTCAGC': 29, 'CTTACCT': 27, 'GTGACCG': 22, 'GTAGTAT': 24, 'CGGCAAC': 27, 'GACCAGG': 32, 'TGTCCGT': 25, 'CTCTAAC': 25, 'CCTTGGA': 21, 'TATTGGT': 28, 'AAACCAA': 27, 'AGTAAGG': 21, 'CGTTAGG': 37, 'AGACTGA': 25, 'GTTCCCT': 18, 'GTTGTAC': 35, 'GGTAACC': 22, 'CATACGG': 24, 'TCCACTC': 22, 'GGTCAGT': 30, 'TCCAGCT': 28, 'ATATCTC': 24, 'AGCTCGT': 16, 'ATCGATC': 20, 'CGGTCAG': 28, 'GTACTAC': 24, 'CCACTGT': 26, 'TCCGTGC': 20, 'TGCAAGT': 26, 'AATTGCA': 23, 'CGATTTC': 28, 'CTCTCGA': 22, 'TCGGGTA': 28, 'TGCGGTA': 34, 'GTCCAGG': 19, 'GGCTTTG': 29, 'TTCCCAA': 28, 'AACGGCG': 19, 'GGTGGTC': 25, 'ACGTTCA': 31, 'GTTTGAG': 22, 'TGACCAG': 27, 'GTCACTG': 30, 'CACAATC': 26, 'TCACTGC': 23, 'AGGCGTA': 22, 'GATTACG': 43, 'ACGTGAC': 26, 'AGGTGGT': 24, 'TTACGTC': 21, 'CCCGGGT': 23, 'TCAGCAG': 27, 'GTCCATC': 24, 'CGTCGTC': 21, 'GCTAGAC': 29, 'ACCTCCC': 29, 'GTTCATA': 29, 'TCTAACA': 27, 'CTAACTG': 26, 'TGCCGGT': 23, 'CTCACGC': 30, 'GCACTGG': 28, 'CACTGTG': 26, 'CGTTCCC': 33, 'TCAGGCG': 27, 'TTACGTT': 23, 'CAGCAGG': 24, 'AACACAA': 29, 'CCTAACG': 36, 'ATATAGT': 55, 'CGGGTTA': 15, 'GAACGAA': 15, 'GGGATCC': 21, 'GACACCA': 29, 'GTGCGGT': 21, 'ACTGCCC': 22, 'GCGAGGT': 29, 'GCAAACT': 17, 'TAGACTG': 25, 'GTCTGCG': 29, 'GAGTCCG': 31, 'GTATCGG': 26, 'TCGGCTT': 26, 'CATAAGC': 23, 'CCTCGCC': 31, 'TTTGCAC': 24, 'GTGCGAG': 30, 'TAGAGTC': 27, 'TCGTCGC': 24, 'ATGAAAA': 27, 'AGAAAAG': 16, 'CCCTTGC': 29, 'GGCGTAT': 26, 'CACGTGA': 27, 'TATGTAA': 25, 'ACAGGTA': 29, 'TCGTGAT': 27, 'TGATTCC': 26, 'TACATTA': 25, 'TAACGGC': 27, 'CGTCCAT': 34, 'ACAGGTC': 18, 'CCAGTGG': 22, 'CACTGCC': 25, 'GCAAGTT': 30, 'TCGCCTT': 21, 'CAGCCAT': 23, 'AACTCAG': 28, 'TATGAGA': 27, 'AGAGTCC': 20, 'CACGTAT': 27, 'ACATCGG': 23, 'TCCATAG': 23, 'ACACGTA': 27, 'TCAAAGA': 19, 'ACCAGTG': 23, 'GGCTCGA': 20, 'CTGCGGA': 24, 'CAGGCCC': 27, 'GTTCAGA': 18, 'TCTGTAT': 27, 'CAAGTGT': 20, 'CAAAAGG': 23, 'ATAAGCG': 20, 'TAATGTC': 21, 'CGTTCAG': 28, 'CGTTTGC': 24, 'CTGGCAG': 31, 'CAACCGG': 25, 'CCAATTG': 27, 'TTGTACC': 21, 'ATGATTC': 23, 'ACCACTG': 28, 'ACGATTG': 19, 'ACCAAGC': 19, 'ATTCGTT': 27, 'CTCGAAG': 26, 'GCACTTG': 29, 'TTGGGTT': 23, 'TATGTCG': 28, 'TCGTCTC': 27, 'GCATCAT': 15, 'CACCGTG': 28, 'CAAGTTA': 17, 'GTCGTCG': 37, 'AGGCCCC': 29, 'TCCAGCG': 25, 'AATAATG': 31, 'AGGCTCG': 28, 'TACATGC': 24, 'AGCGGTT': 25, 'ATTTCAT': 27, 'ACAAGTG': 24, 'ACTGTGC': 17, 'ACATACG': 24, 'CGTGCGG': 22, 'GGCGTCG': 23, 'GCCGGTA': 19, 'TGTGACC': 27, 'AAACTGC': 38, 'CCGATTC': 16, 'GCACAAT': 23, 'CTAGACT': 21, 'GCTTACC': 15, 'GATATTC': 27, 'TTTCTGA': 21, 'AGAGCCT': 24, 'GGTCTGA': 24, 'AACGCAA': 28, 'GCAGCAC': 20, 'ACCCGGG': 21, 'TTGGAGC': 21, 'GCGAAAT': 26, 'TTGACCA': 20, 'GGTCCTT': 26, 'CCAACCC': 34, 'ACGGGTT': 38, 'CGTCGCA': 14, 'CACTTGA': 20, 'TATATAG': 30, 'AGTATGA': 25, 'GTCCAGC': 21, 'ACTCCGC': 52, 'CCAGGTC': 29, 'GGATGAT': 26, 'GAGGAGG': 26, 'CAGAGCC': 22, 'GACCACT': 26, 'CGTTCCT': 22, 'GGATGAA': 29}\n"
     ]
    }
   ],
   "source": [
    "count_bases(fastq)\n",
    "count_2kmers(fastq)\n",
    "count_2kmersunknown(fastq)\n",
    "count_kmers(fastq,7)"
   ]
  },
  {
   "cell_type": "code",
   "execution_count": null,
   "metadata": {
    "collapsed": true
   },
   "outputs": [],
   "source": []
  }
 ],
 "metadata": {
  "anaconda-cloud": {},
  "kernelspec": {
   "display_name": "Python [default]",
   "language": "python",
   "name": "python3"
  },
  "language_info": {
   "codemirror_mode": {
    "name": "ipython",
    "version": 3
   },
   "file_extension": ".py",
   "mimetype": "text/x-python",
   "name": "python",
   "nbconvert_exporter": "python",
   "pygments_lexer": "ipython3",
   "version": "3.5.2"
  }
 },
 "nbformat": 4,
 "nbformat_minor": 1
}
