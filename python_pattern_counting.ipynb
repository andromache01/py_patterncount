{
 "cells": [
  {
   "cell_type": "code",
   "execution_count": 2,
   "metadata": {
    "collapsed": false
   },
   "outputs": [],
   "source": [
    "# Imports a fastq file from the web, and reads it into a format suitable for further analysis\n",
    "# Establishes four different functions for analysis of the genomic contents of the fastq file, which count occurence of bases of various lengths of series of bases. "
   ]
  },
  {
   "cell_type": "code",
   "execution_count": 1,
   "metadata": {
    "collapsed": false
   },
   "outputs": [
    {
     "name": "stdout",
     "output_type": "stream",
     "text": [
      "<!DOCTYPE html PUBLIC \"-//W3C//DTD XHTML 1.1//EN\" \"http://www.w3.org/TR/xhtml11/DTD/xhtml11.dtd\">\n",
      "\n",
      "<html xmlns=\"http://www.w3.org/1999/xhtml\" xml:lang=\"en\">\n",
      "\t<head>\n",
      "\t\t<title>Test Page for the Apache HTTP Server on Red Hat Enterprise Linux</title>\n",
      "\t\t<meta http-equiv=\"Content-Type\" content=\"text/html; charset=UTF-8\" />\n",
      "\t\t<style type=\"text/css\">\n",
      "\t\t\t/*<![CDATA[*/\n",
      "\t\t\tbody {\n",
      "\t\t\t\tbackground-color: #fff;\n",
      "\t\t\t\tcolor: #000;\n",
      "\t\t\t\tfont-size: 0.9em;\n",
      "\t\t\t\tfont-family: sans-serif,helvetica;\n",
      "\t\t\t\tmargin: 0;\n",
      "\t\t\t\tpadding: 0;\n",
      "\t\t\t}\n",
      "\t\t\t:link {\n",
      "\t\t\t\tcolor: #c00;\n",
      "\t\t\t}\n",
      "\t\t\t:visited {\n",
      "\t\t\t\tcolor: #c00;\n",
      "\t\t\t}\n",
      "\t\t\ta:hover {\n",
      "\t\t\t\tcolor: #f50;\n",
      "\t\t\t}\n",
      "\t\t\th1 {\n",
      "\t\t\t\ttext-align: center;\n",
      "\t\t\t\tmargin: 0;\n",
      "\t\t\t\tpadding: 0.6em 2em 0.4em;\n",
      "\t\t\t\tbackground-color: #900;\n",
      "\t\t\t\tcolor: #fff;\n",
      "\t\t\t\tfont-weight: normal;\n",
      "\t\t\t\tfont-size: 1.75em;\n",
      "\t\t\t\tborder-bottom: 2px solid #000;\n",
      "\t\t\t}\n",
      "\t\t\th1 strong {\n",
      "\t\t\t\tfont-weight: bold;\n",
      "\t\t\t}\n",
      "\t\t\th2 {\n",
      "\t\t\t\tfont-size: 1.1em;\n",
      "\t\t\t\tfont-weight: bold;\n",
      "\t\t\t}\n",
      "\t\t\thr {\n",
      "\t\t\t\tdisplay: none;\n",
      "\t\t\t}\n",
      "\t\t\t.content {\n",
      "\t\t\t\tpadding: 1em 5em;\n",
      "\t\t\t}\n",
      "\t\t\t.content-columns {\n",
      "\t\t\t\t/* Setting relative positioning allows for \n",
      "\t\t\t\tabsolute positioning for sub-classes */\n",
      "\t\t\t\tposition: relative;\n",
      "\t\t\t\tpadding-top: 1em;\n",
      "\t\t\t}\n",
      "\t\t\t.content-column-left {\n",
      "\t\t\t\t/* Value for IE/Win; will be overwritten for other browsers */\n",
      "\t\t\t\twidth: 47%;\n",
      "\t\t\t\tpadding-right: 3%;\n",
      "\t\t\t\tfloat: left;\n",
      "\t\t\t\tpadding-bottom: 2em;\n",
      "\t\t\t}\n",
      "\t\t\t.content-column-left hr {\n",
      "\t\t\t\tdisplay: none;\n",
      "\t\t\t}\n",
      "\t\t\t.content-column-right {\n",
      "\t\t\t\t/* Values for IE/Win; will be overwritten for other browsers */\n",
      "\t\t\t\twidth: 47%;\n",
      "\t\t\t\tpadding-left: 3%;\n",
      "\t\t\t\tfloat: left;\n",
      "\t\t\t\tpadding-bottom: 2em;\n",
      "\t\t\t}\n",
      "\t\t\t.content-columns>.content-column-left, .content-columns>.content-column-right {\n",
      "\t\t\t\t/* Non-IE/Win */\n",
      "\t\t\t}\n",
      "\t\t\timg {\n",
      "\t\t\t\tborder: 2px solid #fff;\n",
      "\t\t\t\tpadding: 2px;\n",
      "\t\t\t\tmargin: 2px;\n",
      "\t\t\t}\n",
      "\t\t\ta:hover img {\n",
      "\t\t\t\tborder: 2px solid #f50;\n",
      "\t\t\t}\n",
      "\t\t\t/*]]>*/\n",
      "\t\t</style>\n",
      "\t</head>\n",
      "\n",
      "\t<body>\n",
      "\t\t<h1>Red Hat Enterprise Linux <strong>Test Page</strong></h1>\n",
      "\n",
      "\t\t<div class=\"content\">\n",
      "\t\t\t<div class=\"content-middle\">\n",
      "\t\t\t\t<p>This page is used to test the proper operation of the Apache HTTP server after it has been installed. If you can read this page, it means that the Apache HTTP server installed at this site is working properly.</p>\n",
      "\t\t\t</div>\n",
      "\t\t\t<hr />\n",
      "\n",
      "\t\t\t<div class=\"content-columns\">\n",
      "\t\t\t\t<div class=\"content-column-left\">\n",
      "\t\t\t\t\t<h2>If you are a member of the general public:</h2>\n",
      "\n",
      "\t\t\t\t\t<p>The fact that you are seeing this page indicates that the website you just visited is either experiencing problems, or is undergoing routine maintenance.</p>\n",
      "\n",
      "\t\t\t\t\t<p>If you would like to let the administrators of this website know that you've seen this page instead of the page you expected, you should send them e-mail. In general, mail sent to the name \"webmaster\" and directed to the website's domain should reach the appropriate person.</p>\n",
      "\n",
      "\t\t\t\t\t<p>For example, if you experienced problems while visiting www.example.com, you should send e-mail to \"webmaster@example.com\".</p>\n",
      "\n",
      "\t\t\t\t\t<p>For information on Red Hat Enterprise Linux, please visit the <a href=\"http://www.redhat.com/\">Red Hat, Inc. website</a>. The documentation for Red Hat Enterprise Linux is <a href=\"http://www.redhat.com/docs/manuals/enterprise/\">available on the Red Hat, Inc. website</a>.</p>\n",
      "\t\t\t\t\t<hr />\n",
      "\t\t\t\t</div>\n",
      "\n",
      "\t\t\t\t<div class=\"content-column-right\">\n",
      "\t\t\t\t\t<h2>If you are the website administrator:</h2>\n",
      "\n",
      "\t\t\t\t\t<p>You may now add content to the directory <tt>/var/www/html/</tt>. Note that until you do so, people visiting your website will see this page, and not your content. To prevent this page from ever being used, follow the instructions in the file <tt>/etc/httpd/conf.d/welcome.conf</tt>.</p>\n",
      "\n",
      "                                        <p>You are free to use the image below on web sites powered by the Apache HTTP Server:</p>\n",
      "\t\t\t\t\t\n",
      "                                        <p align=\"center\"><a href=\"http://httpd.apache.org/\"><img src=\"/icons/apache_pb2.gif\" alt=\"[ Powered by Apache ]\"/></a></p>\n",
      "\n",
      "\t\t\t\t</div>\n",
      "\t\t\t</div>\n",
      "\t\t</div>\n",
      "\t</body>\n",
      "</html>\n"
     ]
    },
    {
     "name": "stderr",
     "output_type": "stream",
     "text": [
      "  % Total    % Received % Xferd  Average Speed   Time    Time     Time  Current\n",
      "                                 Dload  Upload   Total   Spent    Left  Speed\n",
      "\n",
      "  0     0    0     0    0     0      0      0 --:--:-- --:--:-- --:--:--     0\n",
      "100 21190  100 21190    0     0  96757      0 --:--:-- --:--:-- --:--:-- 96757\n",
      "curl: (6) Could not resolve host: #gets\n",
      "\n",
      "  0     0    0     0    0     0      0      0 --:--:-- --:--:-- --:--:--     0\n",
      "  0     0    0     0    0     0      0      0 --:--:--  0:00:01 --:--:--     0curl: (6) Could not resolve host: sample\n",
      "\n",
      "  0     0    0     0    0     0      0      0 --:--:-- --:--:-- --:--:--     0\n",
      "  0     0    0     0    0     0      0      0 --:--:--  0:00:01 --:--:--     0curl: (6) Could not resolve host: fastq\n",
      "\n",
      "  0     0    0     0    0     0      0      0 --:--:-- --:--:-- --:--:--     0\n",
      "  0     0    0     0    0     0      0      0 --:--:-- --:--:-- --:--:--     0\n",
      "  0     0    0     0    0     0      0      0 --:--:--  0:00:01 --:--:--     0curl: (6) Could not resolve host: file\n",
      "\n",
      "  0     0    0     0    0     0      0      0 --:--:-- --:--:-- --:--:--     0\n",
      "  0     0    0     0    0     0      0      0 --:--:-- --:--:-- --:--:--     0\n",
      "  0     0    0     0    0     0      0      0 --:--:--  0:00:01 --:--:--     0curl: (6) Could not resolve host: from\n",
      "\n",
      "  0     0    0     0    0     0      0      0 --:--:-- --:--:-- --:--:--     0\n",
      "100  3985  100  3985    0     0   243k      0 --:--:-- --:--:-- --:--:--  243k\n"
     ]
    }
   ],
   "source": [
    "!curl -O http://rachelss.github.io/Bioinformatics/sample.fastq #gets sample fastq file from web"
   ]
  },
  {
   "cell_type": "code",
   "execution_count": 1,
   "metadata": {
    "collapsed": true
   },
   "outputs": [],
   "source": [
    "filename = 'sample.fastq' #Specify the file using a string variable\n",
    "f = open(filename, 'r') #Open the file"
   ]
  },
  {
   "cell_type": "code",
   "execution_count": 2,
   "metadata": {
    "collapsed": true
   },
   "outputs": [],
   "source": [
    "fastq=f.readlines() #Read it into memory, line by line"
   ]
  },
  {
   "cell_type": "code",
   "execution_count": 28,
   "metadata": {
    "collapsed": false
   },
   "outputs": [],
   "source": [
    "def count_bases(filename):\n",
    "    \"\"\"\n",
    "    Analyzes genomic data from a fastq formatted text file. Counts the number of occurrences of each base, from A, T, C, or G.\n",
    "    File must be in the fastq format with no lines removed.\n",
    "    Args:\n",
    "        filename = name of the fastq file. \n",
    "    \"\"\"\n",
    "    counters={'A':0,'C':0,'G':0,'T':0} #establishes dictionary for each base\n",
    "    for line_num,line in enumerate(filename): #go through each line\n",
    "        if line_num % 4 == 1: #check if its a a sequence based on position in file\n",
    "            for base in line: # go through each base\n",
    "                if base=='A': # only counts A\n",
    "                    counters['A'] += 1 #increases dictionary variable by 1 if A is found\n",
    "                elif base=='G': #same as above, and so on\n",
    "                    counters['G'] += 1\n",
    "                elif base=='T':\n",
    "                    counters['T'] += 1\n",
    "                elif base=='C':\n",
    "                    counters['C'] += 1\n",
    "    return(counters) #displays final count"
   ]
  },
  {
   "cell_type": "code",
   "execution_count": 29,
   "metadata": {
    "collapsed": false
   },
   "outputs": [],
   "source": [
    "def count_2kmers(filename):\n",
    "    \"\"\"\n",
    "    Analyzes genomic data from a fastq formatted text file. Counts the number of occurrences of each pair of bases. \n",
    "    Pairs defined as all combinations of A, C, G, or T. Any other \"bases\" included by error or otherwise (e.g. 'AE') are ignored.\n",
    "    File must be in the fastq format with no lines removed.\n",
    "    Args:\n",
    "        filename = name of the fastq file. \n",
    "    \"\"\"\n",
    "    counter_2kmers={'AA':0,'AC':0, 'AG':0,'AT':0, 'CA':0, 'CC':0, 'CG':0, 'CT':0, 'GA':0, 'GC':0, 'GG':0, 'GT':0, 'TA':0, 'TC':0, 'TG':0, 'TT':0} #establishes dictionary for each pair of bases\n",
    "    kmerlist=['AA','AC','AG','AT','CA','CC','CG','CT','GA','GC','GG','GT','TA','TC','TG','TT']\n",
    "    for line_num,line in enumerate (filename): #go through each line\n",
    "        if line_num %4 == 1:  #check if its a a sequence based on position in file\n",
    "            currentl=filename[line_num] #prints relevant line\n",
    "            for base_num, base in enumerate(line): #goes through each base\n",
    "                kmer = currentl[base_num:base_num+2]\n",
    "                for id in kmerlist:\n",
    "                    if kmer == id:\n",
    "                        counter_2kmers[id] +=1\n",
    "    return(counter_2kmers) #displays the final count"
   ]
  },
  {
   "cell_type": "code",
   "execution_count": 30,
   "metadata": {
    "collapsed": false
   },
   "outputs": [],
   "source": [
    "def count_2kmersunknown(filename):\n",
    "    \"\"\"\n",
    "    Analyzes genomic data from a fastq formatted text file. Counts the number of occurrences of each pair of bases. \n",
    "    Pairs include all pairs of letters included in the genomic sequences of the files. Any two-letter pairs will be counted, including possible errors, e.g. 'AE'. \n",
    "    File must be in the fastq format with no lines removed.\n",
    "    Args:\n",
    "        filename = name of the fastq file. \n",
    "    \"\"\"                       \n",
    "    counter_2kmersunknown={} #sets up dictionary\n",
    "    for line_num,line in enumerate (filename):  #go through each line\n",
    "        if line_num %4 == 1: #check if its a a sequence based on position in file\n",
    "            currentl=filename[line_num] #prints relevant line\n",
    "            for base_num, base in enumerate(line): #goes through each base\n",
    "                kmer = currentl[base_num:base_num+2] #records the pair of bases starting with the current base into a variable\n",
    "                if '\\n' in kmer: #don't count the \\n at the end of the genomic line\n",
    "                    break #goes to next statement\n",
    "                elif kmer in counter_2kmersunknown: # if the base pair is in the dictionary, the count for that pair is increased by 1\n",
    "                    counter_2kmersunknown[kmer]+=1\n",
    "                else: #if the base pair is not into the dictionary, it is added, and the count is started at one\n",
    "                    counter_2kmersunknown[kmer]=1\n",
    "    return(counter_2kmersunknown) #displays the final count"
   ]
  },
  {
   "cell_type": "code",
   "execution_count": 31,
   "metadata": {
    "collapsed": false
   },
   "outputs": [],
   "source": [
    "def count_kmers(filename,n):\n",
    "    \"\"\"\n",
    "    Analyzes genomic data from a fastq formatted text file. Counts the number of occurrences of series of bases of any predefined length.\n",
    "    Series include all pairs of letters included in the genomic sequences of the files, including possible errors, e.g. 'AEGT'.\n",
    "    May also unintentionally count fastq formatting language if n is small. (If n<4, the function will also report counts of '\\n').\n",
    "    File must be in the fastq format with no lines removed.\n",
    "    Args:\n",
    "        n = length of the series of bases desired\n",
    "        filename = name of the fastq file. \n",
    "    \"\"\"\n",
    "    counter_kmers={} #sets up dictionary\n",
    "    for line_num,line in enumerate (filename): #go through each line\n",
    "        if line_num %4 == 1:  #check if its a a sequence based on position in file\n",
    "            currentl=filename[line_num] #prints relevant line\n",
    "            for base_num, base in enumerate(line): #goes through each base\n",
    "                kmer = currentl[base_num:base_num+n] #defines current kmer of length n, starting from current base\n",
    "                if '\\n' in kmer: #don't count the \\n at the end of the genomic line\n",
    "                    break #goes to the next statement\n",
    "                elif kmer in counter_kmers: #if kmer is in dictionary, count is increased by 1\n",
    "                    counter_kmers[kmer]+=1\n",
    "                else: #if kmer is not in dictionary, it is added, and count is established at 1\n",
    "                    counter_kmers[kmer]=1\n",
    "    return(counter_kmers) #prints final count"
   ]
  },
  {
   "cell_type": "code",
   "execution_count": 34,
   "metadata": {
    "collapsed": false
   },
   "outputs": [
    {
     "name": "stdout",
     "output_type": "stream",
     "text": [
      "{'T': 2444, 'A': 2517, 'G': 2489, 'C': 2550}\n",
      "{'GG': 581, 'CG': 623, 'TA': 588, 'TG': 628, 'CA': 638, 'AG': 627, 'TC': 615, 'GT': 627, 'CT': 636, 'GC': 620, 'AT': 574, 'CC': 630, 'AC': 665, 'GA': 633, 'AA': 632, 'TT': 583}\n",
      "{'TT': 583, 'CG': 623, 'GG': 581, 'TG': 628, 'CA': 638, 'AG': 627, 'TC': 615, 'GT': 627, 'AA': 632, 'CT': 636, 'GC': 620, 'AT': 574, 'CC': 630, 'AC': 665, 'GA': 633, 'TA': 588}\n"
     ]
    },
    {
     "data": {
      "text/plain": [
       "{'AAA': 158,\n",
       " 'AAC': 174,\n",
       " 'AAG': 154,\n",
       " 'AAT': 142,\n",
       " 'ACA': 172,\n",
       " 'ACC': 165,\n",
       " 'ACG': 144,\n",
       " 'ACT': 175,\n",
       " 'AGA': 145,\n",
       " 'AGC': 156,\n",
       " 'AGG': 145,\n",
       " 'AGT': 176,\n",
       " 'ATA': 139,\n",
       " 'ATC': 139,\n",
       " 'ATG': 144,\n",
       " 'ATT': 147,\n",
       " 'CAA': 144,\n",
       " 'CAC': 168,\n",
       " 'CAG': 170,\n",
       " 'CAT': 150,\n",
       " 'CCA': 166,\n",
       " 'CCC': 136,\n",
       " 'CCG': 155,\n",
       " 'CCT': 169,\n",
       " 'CGA': 169,\n",
       " 'CGC': 162,\n",
       " 'CGG': 147,\n",
       " 'CGT': 143,\n",
       " 'CTA': 156,\n",
       " 'CTC': 163,\n",
       " 'CTG': 178,\n",
       " 'CTT': 132,\n",
       " 'GAA': 166,\n",
       " 'GAC': 163,\n",
       " 'GAG': 150,\n",
       " 'GAT': 148,\n",
       " 'GCA': 154,\n",
       " 'GCC': 157,\n",
       " 'GCG': 164,\n",
       " 'GCT': 140,\n",
       " 'GGA': 150,\n",
       " 'GGC': 140,\n",
       " 'GGG': 133,\n",
       " 'GGT': 149,\n",
       " 'GTA': 146,\n",
       " 'GTC': 159,\n",
       " 'GTG': 166,\n",
       " 'GTT': 148,\n",
       " 'TAA': 155,\n",
       " 'TAC': 154,\n",
       " 'TAG': 148,\n",
       " 'TAT': 128,\n",
       " 'TCA': 139,\n",
       " 'TCC': 169,\n",
       " 'TCG': 155,\n",
       " 'TCT': 147,\n",
       " 'TGA': 165,\n",
       " 'TGC': 152,\n",
       " 'TGG': 153,\n",
       " 'TGT': 146,\n",
       " 'TTA': 140,\n",
       " 'TTC': 148,\n",
       " 'TTG': 136,\n",
       " 'TTT': 149}"
      ]
     },
     "execution_count": 34,
     "metadata": {},
     "output_type": "execute_result"
    }
   ],
   "source": [
    "print(count_bases(fastq))\n",
    "print(count_2kmers(fastq))\n",
    "print(count_2kmersunknown(fastq))\n",
    "count_kmers(fastq,3)"
   ]
  },
  {
   "cell_type": "code",
   "execution_count": null,
   "metadata": {
    "collapsed": true
   },
   "outputs": [],
   "source": []
  }
 ],
 "metadata": {
  "anaconda-cloud": {},
  "kernelspec": {
   "display_name": "Python [default]",
   "language": "python",
   "name": "python3"
  },
  "language_info": {
   "codemirror_mode": {
    "name": "ipython",
    "version": 3
   },
   "file_extension": ".py",
   "mimetype": "text/x-python",
   "name": "python",
   "nbconvert_exporter": "python",
   "pygments_lexer": "ipython3",
   "version": "3.5.2"
  }
 },
 "nbformat": 4,
 "nbformat_minor": 1
}
