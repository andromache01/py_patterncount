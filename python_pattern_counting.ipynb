{
 "cells": [
  {
   "cell_type": "code",
   "execution_count": 2,
   "metadata": {
    "collapsed": false
   },
   "outputs": [],
   "source": [
    "# Imports a fastq file from the web, and reads it into a format suitable for further analysis\n",
    "# Establishes four different functions for analysis of the genomic contents of the fastq file, which count occurence of bases of various lengths of series of bases. "
   ]
  },
  {
   "cell_type": "code",
   "execution_count": 1,
   "metadata": {
    "collapsed": false
   },
   "outputs": [
    {
     "name": "stderr",
     "output_type": "stream",
     "text": [
      "  % Total    % Received % Xferd  Average Speed   Time    Time     Time  Current\n",
      "                                 Dload  Upload   Total   Spent    Left  Speed\n",
      "\n",
      "  0     0    0     0    0     0      0      0 --:--:-- --:--:-- --:--:--     0\n",
      "100 21190  100 21190    0     0   165k      0 --:--:-- --:--:-- --:--:--  165k\n"
     ]
    }
   ],
   "source": [
    "!curl -O http://rachelss.github.io/Bioinformatics/sample.fastq #gets sample fastq file from web"
   ]
  },
  {
   "cell_type": "code",
   "execution_count": 2,
   "metadata": {
    "collapsed": true
   },
   "outputs": [],
   "source": [
    "filename = 'sample.fastq' #Specify the file using a string variable\n",
    "f = open(filename, 'r') #Open the file"
   ]
  },
  {
   "cell_type": "code",
   "execution_count": 3,
   "metadata": {
    "collapsed": true
   },
   "outputs": [],
   "source": [
    "fastq=f.readlines() #Read it into memory, line by line"
   ]
  },
  {
   "cell_type": "code",
   "execution_count": 46,
   "metadata": {
    "collapsed": false
   },
   "outputs": [],
   "source": [
    "def count_bases(filename):\n",
    "    \"\"\"\n",
    "    Analyzes genomic data from a fastq formatted text file. Counts the number of occurrences of each base, from A, T, C, or G.\n",
    "    File must be in the fastq format with no lines removed.\n",
    "    Args:\n",
    "        filename = name of the fastq file. \n",
    "    \"\"\"\n",
    "    counters={'A':0,'C':0,'G':0,'T':0} #establishes dictionary for each base\n",
    "    for line_num,line in enumerate(filename): #go through each line\n",
    "        if line_num % 4 == 1: #check if its a a sequence based on position in file\n",
    "            for base in line: # go through each base\n",
    "                if base=='A': # only counts A\n",
    "                    counters['A'] += 1 #increases dictionary variable by 1 if A is found\n",
    "                elif base=='G': #same as above, and so on\n",
    "                    counters['G'] += 1\n",
    "                elif base=='T':\n",
    "                    counters['T'] += 1\n",
    "                elif base=='C':\n",
    "                    counters['C'] += 1\n",
    "    print(counters) #displays final count"
   ]
  },
  {
   "cell_type": "code",
   "execution_count": 74,
   "metadata": {
    "collapsed": false
   },
   "outputs": [],
   "source": [
    "def count_2kmers(filename):\n",
    "    \"\"\"\n",
    "    Analyzes genomic data from a fastq formatted text file. Counts the number of occurrences of each pair of bases. \n",
    "    Pairs defined as all combinations of A, C, G, or T. Any other \"bases\" included by error or otherwise (e.g. 'AE') are ignored.\n",
    "    File must be in the fastq format with no lines removed.\n",
    "    Args:\n",
    "        filename = name of the fastq file. \n",
    "    \"\"\"\n",
    "    counter_2kmers={'AA':0,'AC':0, 'AG':0,'AT':0, 'CA':0, 'CC':0, 'CG':0, 'CT':0, 'GA':0, 'GC':0, 'GG':0, 'GT':0, 'TA':0, 'TC':0, 'TG':0, 'TT':0} #establishes dictionary for each pair of bases\n",
    "    kmerlist=['AA','AC','AG','AT','CA','CC','CG','CT','GA','GC','GG','GT','TA','TC','TG','TT']\n",
    "    for line_num,line in enumerate (filename): #go through each line\n",
    "        if line_num %4 == 1:  #check if its a a sequence based on position in file\n",
    "            currentl=filename[line_num] #prints relevant line\n",
    "            for base_num, base in enumerate(line): #goes through each base\n",
    "                kmer = currentl[base_num:base_num+2]\n",
    "                for id in kmerlist:\n",
    "                    if kmer == id:\n",
    "                        counter_2kmers[id] +=1\n",
    "    print(counter_2kmers) #displays the final count"
   ]
  },
  {
   "cell_type": "code",
   "execution_count": 80,
   "metadata": {
    "collapsed": false
   },
   "outputs": [],
   "source": [
    "def count_2kmersunknown(filename):\n",
    "    \"\"\"\n",
    "    Analyzes genomic data from a fastq formatted text file. Counts the number of occurrences of each pair of bases. \n",
    "    Pairs include all pairs of letters included in the genomic sequences of the files. Any two-letter pairs will be counted, including possible errors, e.g. 'AE'. \n",
    "    File must be in the fastq format with no lines removed.\n",
    "    Args:\n",
    "        filename = name of the fastq file. \n",
    "    \"\"\"                       \n",
    "    counter_2kmersunknown={} #sets up dictionary\n",
    "    for line_num,line in enumerate (filename):  #go through each line\n",
    "        if line_num %4 == 1: #check if its a a sequence based on position in file\n",
    "            currentl=filename[line_num] #prints relevant line\n",
    "            for base_num, base in enumerate(line): #goes through each base\n",
    "                kmer = currentl[base_num:base_num+2] #records the pair of bases starting with the current base into a variable\n",
    "                if '\\n' in kmer: #don't count the \\n at the end of the genomic line\n",
    "                    break #goes to next statement\n",
    "                elif kmer in counter_2kmersunknown: # if the base pair is in the dictionary, the count for that pair is increased by 1\n",
    "                    counter_2kmersunknown[kmer]+=1\n",
    "                else: #if the base pair is not into the dictionary, it is added, and the count is started at one\n",
    "                    counter_2kmersunknown[kmer]=1\n",
    "    print(counter_2kmersunknown) #displays the final count"
   ]
  },
  {
   "cell_type": "code",
   "execution_count": 82,
   "metadata": {
    "collapsed": false
   },
   "outputs": [],
   "source": [
    "def count_kmers(filename,n):\n",
    "    \"\"\"\n",
    "    Analyzes genomic data from a fastq formatted text file. Counts the number of occurrences of series of bases of any predefined length.\n",
    "    Series include all pairs of letters included in the genomic sequences of the files, including possible errors, e.g. 'AEGT'.\n",
    "    May also unintentionally count fastq formatting language if n is small. (If n<4, the function will also report counts of '\\n').\n",
    "    File must be in the fastq format with no lines removed.\n",
    "    Args:\n",
    "        n = length of the series of bases desired\n",
    "        filename = name of the fastq file. \n",
    "    \"\"\"\n",
    "    counter_kmers={} #sets up dictionary\n",
    "    for line_num,line in enumerate (filename): #go through each line\n",
    "        if line_num %4 == 1:  #check if its a a sequence based on position in file\n",
    "            currentl=filename[line_num] #prints relevant line\n",
    "            for base in line: #goes through each base\n",
    "                kmer = currentl[currentl.index(base):currentl.index(base)+n] #defines current kmer of length n, starting from current base\n",
    "                if '\\n' in kmer: #don't count the \\n at the end of the genomic line\n",
    "                    break #goes to the next statement\n",
    "                elif kmer in counter_kmers: #if kmer is in dictionary, count is increased by 1\n",
    "                    counter_kmers[kmer]+=1\n",
    "                else: #if kmer is not in dictionary, it is added, and count is established at 1\n",
    "                    counter_kmers[kmer]=1\n",
    "    print(counter_kmers) #prints final count"
   ]
  },
  {
   "cell_type": "code",
   "execution_count": 85,
   "metadata": {
    "collapsed": false
   },
   "outputs": [
    {
     "name": "stdout",
     "output_type": "stream",
     "text": [
      "{'C': 2550, 'A': 2517, 'G': 2489, 'T': 2444}\n",
      "{'TT': 583, 'CC': 630, 'AT': 574, 'GT': 627, 'TA': 588, 'TG': 628, 'CA': 638, 'TC': 615, 'CG': 623, 'AA': 632, 'CT': 636, 'AC': 665, 'AG': 627, 'GA': 633, 'GG': 581, 'GC': 620}\n",
      "{'TT': 583, 'CC': 630, 'AT': 574, 'CA': 638, 'TG': 628, 'TA': 588, 'TC': 615, 'CG': 623, 'GT': 627, 'CT': 636, 'AG': 627, 'AC': 665, 'AA': 632, 'GA': 633, 'GG': 581, 'GC': 620}\n",
      "{'TTT': 187, 'GCC': 92, 'GGC': 218, 'CTC': 209, 'GTC': 262, 'ACG': 137, 'CCA': 305, 'GGT': 163, 'CAG': 206, 'TAT': 311, 'ATT': 271, 'GGA': 99, 'TCT': 72, 'TGT': 103, 'ACC': 242, 'CGC': 29, 'AGC': 113, 'GTA': 216, 'CGT': 235, 'GAT': 119, 'CCG': 90, 'TTA': 127, 'TAA': 92, 'TAC': 137, 'GCG': 173, 'TGA': 99, 'TGC': 181, 'CTA': 142, 'ACT': 206, 'ACA': 228, 'TCC': 193, 'ATC': 82, 'CAA': 171, 'CCT': 172, 'GGG': 122, 'CAT': 142, 'CTT': 27, 'TGG': 52, 'GTG': 146, 'TTG': 172, 'CTG': 178, 'AAC': 221, 'AGA': 179, 'GTT': 170, 'AAT': 87, 'GCT': 148, 'CCC': 76, 'TCA': 192, 'CGG': 129, 'TTC': 121, 'GAG': 105, 'GAC': 198, 'ATG': 112, 'TAG': 103, 'GAA': 15, 'CGA': 139, 'CAC': 300, 'TCG': 302, 'AGT': 150, 'AGG': 174, 'ATA': 178, 'AAG': 72, 'GCA': 243, 'AAA': 65}\n"
     ]
    }
   ],
   "source": [
    "count_bases(fastq)\n",
    "count_2kmers(fastq)\n",
    "count_2kmersunknown(fastq)\n",
    "count_kmers(fastq,3)"
   ]
  },
  {
   "cell_type": "code",
   "execution_count": null,
   "metadata": {
    "collapsed": true
   },
   "outputs": [],
   "source": []
  }
 ],
 "metadata": {
  "anaconda-cloud": {},
  "kernelspec": {
   "display_name": "Python [default]",
   "language": "python",
   "name": "python3"
  },
  "language_info": {
   "codemirror_mode": {
    "name": "ipython",
    "version": 3
   },
   "file_extension": ".py",
   "mimetype": "text/x-python",
   "name": "python",
   "nbconvert_exporter": "python",
   "pygments_lexer": "ipython3",
   "version": "3.5.2"
  }
 },
 "nbformat": 4,
 "nbformat_minor": 1
}
